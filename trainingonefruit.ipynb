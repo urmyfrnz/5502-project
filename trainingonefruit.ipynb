{
  "nbformat": 4,
  "nbformat_minor": 0,
  "metadata": {
    "colab": {
      "name": "trainingonefruit.ipynb",
      "provenance": [],
      "collapsed_sections": []
    },
    "kernelspec": {
      "name": "python3",
      "display_name": "Python 3"
    }
  },
  "cells": [
    {
      "cell_type": "code",
      "metadata": {
        "id": "cLK_asgo1Y9n",
        "colab": {
          "base_uri": "https://localhost:8080/"
        },
        "outputId": "67fe219c-9dc7-482d-d610-1dc3ba574ace"
      },
      "source": [
        "from google.colab import drive\n",
        "drive.mount('/content/gdrive')\n"
      ],
      "execution_count": 10,
      "outputs": [
        {
          "output_type": "stream",
          "name": "stdout",
          "text": [
            "Drive already mounted at /content/gdrive; to attempt to forcibly remount, call drive.mount(\"/content/gdrive\", force_remount=True).\n"
          ]
        }
      ]
    },
    {
      "cell_type": "code",
      "metadata": {
        "id": "TuErrz9w1lUM"
      },
      "source": [
        "import os\n",
        "os.chdir('/content/gdrive/MyDrive/fruit')"
      ],
      "execution_count": 11,
      "outputs": []
    },
    {
      "cell_type": "code",
      "metadata": {
        "id": "w3hhfe0T2XKC"
      },
      "source": [
        "import tensorflow as tf\n",
        "from tensorflow.keras.models import Sequential\n",
        "from tensorflow.keras.layers import Dense, Dropout, Activation, Flatten\n",
        "from tensorflow.keras.layers import Conv2D, MaxPooling2D\n",
        "\n",
        "import pickle\n",
        "\n",
        "pickle_in = open(\"XX.pickle\",\"rb\")\n",
        "X = pickle.load(pickle_in)\n",
        "\n",
        "pickle_in = open(\"yy.pickle\",\"rb\")\n",
        "y = pickle.load(pickle_in)\n"
      ],
      "execution_count": 12,
      "outputs": []
    },
    {
      "cell_type": "code",
      "metadata": {
        "id": "SjMrjMSC2dUk",
        "colab": {
          "base_uri": "https://localhost:8080/"
        },
        "outputId": "66964428-1580-4ad5-e984-7c0964cbc511"
      },
      "source": [
        "print(len(X)+len(y))"
      ],
      "execution_count": 13,
      "outputs": [
        {
          "output_type": "stream",
          "name": "stdout",
          "text": [
            "5452\n"
          ]
        }
      ]
    },
    {
      "cell_type": "code",
      "metadata": {
        "id": "KS38zXGM2ho5"
      },
      "source": [
        "X = X/255.0"
      ],
      "execution_count": 14,
      "outputs": []
    },
    {
      "cell_type": "code",
      "metadata": {
        "id": "7pSWoP4G2nZS",
        "colab": {
          "base_uri": "https://localhost:8080/"
        },
        "outputId": "e08fe685-f55f-4398-eac9-d27e341fcb3a"
      },
      "source": [
        "print(X[0])"
      ],
      "execution_count": 15,
      "outputs": [
        {
          "output_type": "stream",
          "name": "stdout",
          "text": [
            "[[[0.]\n",
            "  [0.]\n",
            "  [0.]\n",
            "  ...\n",
            "  [0.]\n",
            "  [0.]\n",
            "  [0.]]\n",
            "\n",
            " [[0.]\n",
            "  [0.]\n",
            "  [0.]\n",
            "  ...\n",
            "  [0.]\n",
            "  [0.]\n",
            "  [0.]]\n",
            "\n",
            " [[0.]\n",
            "  [0.]\n",
            "  [0.]\n",
            "  ...\n",
            "  [0.]\n",
            "  [0.]\n",
            "  [0.]]\n",
            "\n",
            " ...\n",
            "\n",
            " [[0.]\n",
            "  [0.]\n",
            "  [0.]\n",
            "  ...\n",
            "  [0.]\n",
            "  [0.]\n",
            "  [0.]]\n",
            "\n",
            " [[0.]\n",
            "  [0.]\n",
            "  [0.]\n",
            "  ...\n",
            "  [0.]\n",
            "  [0.]\n",
            "  [0.]]\n",
            "\n",
            " [[0.]\n",
            "  [0.]\n",
            "  [0.]\n",
            "  ...\n",
            "  [0.]\n",
            "  [0.]\n",
            "  [0.]]]\n"
          ]
        }
      ]
    },
    {
      "cell_type": "code",
      "metadata": {
        "id": "pVQaGPRUEZFl",
        "outputId": "89aed4b2-c3c7-455a-b0be-c4cc952f2165",
        "colab": {
          "base_uri": "https://localhost:8080/"
        }
      },
      "source": [
        "print(y[0])"
      ],
      "execution_count": 16,
      "outputs": [
        {
          "output_type": "stream",
          "name": "stdout",
          "text": [
            "0\n"
          ]
        }
      ]
    },
    {
      "cell_type": "code",
      "metadata": {
        "id": "bH8gOkM62pXZ",
        "colab": {
          "base_uri": "https://localhost:8080/"
        },
        "outputId": "8cf1b7fe-e794-443a-e601-69fb712eafbd"
      },
      "source": [
        "model = Sequential()\n",
        "\n",
        "model.add(Conv2D(32, (3, 3), input_shape=X.shape[1:]))\n",
        "model.add(Activation('relu'))\n",
        "model.add(MaxPooling2D(pool_size=(2, 2)))\n",
        "\n",
        "model.add(Conv2D(64, (3, 3)))\n",
        "model.add(Activation('relu'))\n",
        "model.add(MaxPooling2D(pool_size=(2, 2)))\n",
        "model.add(Dropout(0.25))\n",
        "\n",
        "model.add(Conv2D(128, (3, 3)))\n",
        "model.add(Activation('relu'))\n",
        "model.add(MaxPooling2D(pool_size=(2, 2)))\n",
        "model.add(Dropout(0.25))\n",
        "\n",
        "\n",
        "model.add(Flatten())  \n",
        "\n",
        "model.add(Dense(128))\n",
        "model.add(Dropout(0.25))\n",
        "\n",
        "model.add(Dense(1))\n",
        "model.add(Activation('sigmoid'))\n",
        "\n",
        "model.compile(loss='binary_crossentropy',\n",
        "              optimizer='adam',\n",
        "              metrics=['accuracy'])\n",
        "\n",
        "model.fit(X, y, batch_size=32, epochs=12, validation_split=0.3)\n",
        "\n"
      ],
      "execution_count": 19,
      "outputs": [
        {
          "output_type": "stream",
          "name": "stdout",
          "text": [
            "Epoch 1/12\n",
            "60/60 [==============================] - 8s 127ms/step - loss: 0.5824 - accuracy: 0.6709 - val_loss: 0.4775 - val_accuracy: 0.7469\n",
            "Epoch 2/12\n",
            "60/60 [==============================] - 7s 125ms/step - loss: 0.4178 - accuracy: 0.7961 - val_loss: 0.3889 - val_accuracy: 0.8276\n",
            "Epoch 3/12\n",
            "60/60 [==============================] - 7s 125ms/step - loss: 0.3833 - accuracy: 0.8139 - val_loss: 0.3552 - val_accuracy: 0.8362\n",
            "Epoch 4/12\n",
            "60/60 [==============================] - 7s 125ms/step - loss: 0.3599 - accuracy: 0.8323 - val_loss: 0.3124 - val_accuracy: 0.8582\n",
            "Epoch 5/12\n",
            "60/60 [==============================] - 8s 125ms/step - loss: 0.3213 - accuracy: 0.8538 - val_loss: 0.2883 - val_accuracy: 0.8790\n",
            "Epoch 6/12\n",
            "60/60 [==============================] - 8s 126ms/step - loss: 0.2792 - accuracy: 0.8805 - val_loss: 0.2920 - val_accuracy: 0.8729\n",
            "Epoch 7/12\n",
            "60/60 [==============================] - 7s 125ms/step - loss: 0.2841 - accuracy: 0.8779 - val_loss: 0.2631 - val_accuracy: 0.9010\n",
            "Epoch 8/12\n",
            "60/60 [==============================] - 7s 125ms/step - loss: 0.2433 - accuracy: 0.9020 - val_loss: 0.2810 - val_accuracy: 0.8765\n",
            "Epoch 9/12\n",
            "60/60 [==============================] - 7s 125ms/step - loss: 0.2268 - accuracy: 0.9067 - val_loss: 0.2431 - val_accuracy: 0.8936\n",
            "Epoch 10/12\n",
            "60/60 [==============================] - 8s 125ms/step - loss: 0.2106 - accuracy: 0.9099 - val_loss: 0.1827 - val_accuracy: 0.9242\n",
            "Epoch 11/12\n",
            "60/60 [==============================] - 8s 125ms/step - loss: 0.1806 - accuracy: 0.9298 - val_loss: 0.2107 - val_accuracy: 0.9046\n",
            "Epoch 12/12\n",
            "60/60 [==============================] - 7s 125ms/step - loss: 0.1710 - accuracy: 0.9292 - val_loss: 0.1863 - val_accuracy: 0.9279\n"
          ]
        },
        {
          "output_type": "execute_result",
          "data": {
            "text/plain": [
              "<keras.callbacks.History at 0x7f90aade99d0>"
            ]
          },
          "metadata": {},
          "execution_count": 19
        }
      ]
    },
    {
      "cell_type": "code",
      "metadata": {
        "id": "kfiMhZzh4CLd",
        "colab": {
          "base_uri": "https://localhost:8080/"
        },
        "outputId": "61abac4a-05eb-4296-8fa9-ce47d2d4794f"
      },
      "source": [
        "model.save('onefruit-cnn.model')"
      ],
      "execution_count": 20,
      "outputs": [
        {
          "output_type": "stream",
          "name": "stdout",
          "text": [
            "INFO:tensorflow:Assets written to: onefruit-cnn.model/assets\n"
          ]
        }
      ]
    }
  ]
}